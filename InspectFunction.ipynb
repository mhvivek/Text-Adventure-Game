{
 "cells": [
  {
   "cell_type": "code",
   "execution_count": null,
   "metadata": {},
   "outputs": [],
   "source": [
    "def inspect(command, q, x,y, i):\n",
    "    thing = command.lstrip('inspect ').lower()\n",
    "    atLocation = False\n",
    "    inInventory = False\n",
    "    for item in locations[(x,y)].items:\n",
    "            if item.name.lower() == thing:\n",
    "                atLocation = True\n",
    "                if q == item.quest:\n",
    "                    print(item.q_description)\n",
    "                else:\n",
    "                    print(item.s_description)\n",
    "    if atLocation == False:\n",
    "        for item in i.items:\n",
    "            if item.name.lower() == thing:\n",
    "                inInventory = True\n",
    "                if q == item.quest:\n",
    "                    print(item.q_description)\n",
    "                else:\n",
    "                    print(item.s_description)\n",
    "    if atLocation == False and inInventory == False:\n",
    "        print(f\"I don't see a '{thing}' here.\")"
   ]
  }
 ],
 "metadata": {
  "kernelspec": {
   "display_name": "Python 3",
   "language": "python",
   "name": "python3"
  },
  "language_info": {
   "codemirror_mode": {
    "name": "ipython",
    "version": 3
   },
   "file_extension": ".py",
   "mimetype": "text/x-python",
   "name": "python",
   "nbconvert_exporter": "python",
   "pygments_lexer": "ipython3",
   "version": "3.7.3"
  }
 },
 "nbformat": 4,
 "nbformat_minor": 2
}
