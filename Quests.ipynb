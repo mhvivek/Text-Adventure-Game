{
 "cells": [
  {
   "cell_type": "code",
   "execution_count": 17,
   "metadata": {},
   "outputs": [
    {
     "name": "stdout",
     "output_type": "stream",
     "text": [
      "\n",
      "Current quest:\n",
      "Interrogate the suspects to find who stole the source of the Princess' magic.\n",
      "\n",
      "If you clear this quest, you will automatomatically fail it.\n",
      "\n",
      "Interrogate the suspects to find who stole the source of the Princess' magic.\n",
      "Are you sure you want to clear your current quest? Doing so will mean that you cannot do any more quests for the Elfs. (y/n)y\n",
      "\n",
      "You are not currently on a quest.\n"
     ]
    }
   ],
   "source": [
    "class Quests:\n",
    "    def __init__ (self):\n",
    "        self.quest_info = \"\"\n",
    "        self.current_quest = \"\"\n",
    "        \n",
    "    def add_quest(self, giver_name):\n",
    "        if giver_name == \"Commander Cedric1\":\n",
    "            self.quest_info = \"Find out who stole from the Humans' stockpile.\"\n",
    "            self.current_quest = \"Human1\"\n",
    "        elif giver_name == \"Torma the Tavernkeep2\":\n",
    "            self.quest_info = \"Talk to Tristan.\"\n",
    "            self.current_quest = \"Human2\"\n",
    "        elif giver_name == \"Elf1\":\n",
    "            self.quest_info = \"Find out what is killing the plants.\"\n",
    "            self.current_quest = \"Elf1\"\n",
    "        elif giver_name == \"Princess1\":\n",
    "            self.quest_info = \"Interrogate the suspects to find who stole the source of the Princess' magic.\"\n",
    "            self.current_quest = \"Elf2\"\n",
    "        elif giver_name == \"Commander Cedric2\":\n",
    "            self.quest_info = \"Get the tree of healing and share it with the Humans.\"\n",
    "            self.current_quest = \"Human3\"\n",
    "        elif giver_name == \"Princess2\":\n",
    "            self.quest_info = \"Get the tree of healing and share it with the Elves.\"\n",
    "            self.current_quest = \"Elf3\"\n",
    "        \n",
    "            \n",
    "    def show_quest(self): #call this if the player presses q\n",
    "        if 'Human' in self.current_quest or 'Elf' in self.current_quest or \"Secret\" in self.current_quest:\n",
    "            print(\"\\nCurrent quest:\")\n",
    "            print(self.quest_info)\n",
    "        else:\n",
    "            print(\"\\nYou are not currently on a quest.\")\n",
    "        \n",
    "    def clear_quest(self): #if the player types 'clear quest'\n",
    "        if len(self.current_quest) >= 1:\n",
    "            print(\"\\nIf you clear this quest, you will automatomatically fail it.\")\n",
    "            print(f\"\\n{self.quest_info}\")\n",
    "            answer = input(f\"Are you sure you want to clear your current quest? Doing so will mean that you cannot do any more quests for the {self.current_quest[:-1]}s. (y/n)\").lower()\n",
    "            while answer != 'y' and answer != 'n':\n",
    "                answer = input(\"Please type 'y' or 'n': \").lower()\n",
    "            if answer == 'y':\n",
    "                self.remove_quest(self)\n",
    "        else:\n",
    "            print(\"\\nYou are not currently on a quest.\")\n",
    "    \n",
    "    def remove_quest(self):\n",
    "        self.quest_info = \"\"\n",
    "        self.current_quest = \"\""
   ]
  },
  {
   "cell_type": "code",
   "execution_count": null,
   "metadata": {},
   "outputs": [],
   "source": []
  }
 ],
 "metadata": {
  "kernelspec": {
   "display_name": "Python 3",
   "language": "python",
   "name": "python3"
  },
  "language_info": {
   "codemirror_mode": {
    "name": "ipython",
    "version": 3
   },
   "file_extension": ".py",
   "mimetype": "text/x-python",
   "name": "python",
   "nbconvert_exporter": "python",
   "pygments_lexer": "ipython3",
   "version": "3.7.3"
  }
 },
 "nbformat": 4,
 "nbformat_minor": 2
}
