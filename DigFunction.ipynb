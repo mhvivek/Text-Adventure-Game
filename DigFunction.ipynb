{
 "cells": [
  {
   "cell_type": "code",
   "execution_count": null,
   "metadata": {},
   "outputs": [],
   "source": [
    "def dig(i, x, y, q):\n",
    "    if o7 in i.items:\n",
    "        if x == 1 and y == -1:\n",
    "            if q == 'Elf1+++++':\n",
    "                if o8 not in i.items:\n",
    "                    print(\"You dig and find the antidote! It's added to your inventory.\")\n",
    "                    i.add_item(o8):\n",
    "                else:\n",
    "                    print(\"You already have enough antidote.\")\n",
    "            else:\n",
    "                print(\"You dig a little hole.\")\n",
    "        else:\n",
    "            print(\"You dig a little hole.\")\n",
    "    else:\n",
    "        print(\"You don't have a shovel or anything to dig with.\")\n",
    "    return(i)"
   ]
  }
 ],
 "metadata": {
  "kernelspec": {
   "display_name": "Python 3",
   "language": "python",
   "name": "python3"
  },
  "language_info": {
   "codemirror_mode": {
    "name": "ipython",
    "version": 3
   },
   "file_extension": ".py",
   "mimetype": "text/x-python",
   "name": "python",
   "nbconvert_exporter": "python",
   "pygments_lexer": "ipython3",
   "version": "3.7.3"
  }
 },
 "nbformat": 4,
 "nbformat_minor": 2
}
