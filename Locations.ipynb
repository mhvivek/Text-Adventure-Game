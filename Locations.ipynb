{
 "cells": [
  {
   "cell_type": "code",
   "execution_count": 4,
   "metadata": {},
   "outputs": [
    {
     "name": "stdout",
     "output_type": "stream",
     "text": [
      "you've arrived at the tavern\n"
     ]
    }
   ],
   "source": [
    "class Location:\n",
    "    def __init__(self, name, message, items, npcs):\n",
    "        self.name = name\n",
    "        self.message = message\n",
    "        self.items = items\n",
    "        self.npc = npcs\n",
    "l1 = Location('tavern', \"you've arrived at the tavern\", 'beer', 'none')\n",
    "print(l1.message)"
   ]
  },
  {
   "cell_type": "code",
   "execution_count": null,
   "metadata": {},
   "outputs": [],
   "source": []
  }
 ],
 "metadata": {
  "kernelspec": {
   "display_name": "Python 3",
   "language": "python",
   "name": "python3"
  },
  "language_info": {
   "codemirror_mode": {
    "name": "ipython",
    "version": 3
   },
   "file_extension": ".py",
   "mimetype": "text/x-python",
   "name": "python",
   "nbconvert_exporter": "python",
   "pygments_lexer": "ipython3",
   "version": "3.7.3"
  }
 },
 "nbformat": 4,
 "nbformat_minor": 2
}
