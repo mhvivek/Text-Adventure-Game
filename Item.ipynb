{
 "cells": [
  {
   "cell_type": "code",
   "execution_count": 3,
   "metadata": {},
   "outputs": [],
   "source": [
    "class Item:\n",
    "    def __init__(self, name, q_description, quest, weight,):\n",
    "        self.name = name\n",
    "        self.q_description = q_description\n",
    "        self.quest = quest\n",
    "        self.wieght = weight\n",
    "        \n",
    "    def inspect(self, current_quest):\n",
    "        if current_quest == self.quest: #if this object is relevant to the quest\n",
    "            print(self.q_description)\n",
    "        else:\n",
    "            print(f\"You see a {self.name}.\")"
   ]
  },
  {
   "cell_type": "code",
   "execution_count": null,
   "metadata": {},
   "outputs": [],
   "source": []
  }
 ],
 "metadata": {
  "kernelspec": {
   "display_name": "Python 3",
   "language": "python",
   "name": "python3"
  },
  "language_info": {
   "codemirror_mode": {
    "name": "ipython",
    "version": 3
   },
   "file_extension": ".py",
   "mimetype": "text/x-python",
   "name": "python",
   "nbconvert_exporter": "python",
   "pygments_lexer": "ipython3",
   "version": "3.7.3"
  }
 },
 "nbformat": 4,
 "nbformat_minor": 2
}
