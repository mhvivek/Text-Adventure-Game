{
 "cells": [
  {
   "cell_type": "code",
   "execution_count": null,
   "metadata": {},
   "outputs": [],
   "source": [
    "def catch(command, x, y, i, q):\n",
    "    thing = command.lstrip('catch ').lower()\n",
    "    if thing == 'bug' or thing == 'bugs':\n",
    "        if x == 0 and y == 1:\n",
    "            if q == 'Elf1++++':\n",
    "                if o9 in i.items:\n",
    "                    if o6 in i.items:\n",
    "                        print(\"You already have some bugs in your inventory. You don't need any more.\")\n",
    "                    else:\n",
    "                        print(\"You successfully catch some bugs. They are added to your inventory.\")\n",
    "                else:\n",
    "                    print(\"You need something to catch the bigs with.\")\n",
    "            else:\n",
    "                print('You have no reason to catch these bugs.')\n",
    "        else:\n",
    "            print(\"There are no bugs here.\")\n",
    "    else:\n",
    "        print(f\"You can't catch '{thing}'\")\n",
    "    return(i)"
   ]
  }
 ],
 "metadata": {
  "kernelspec": {
   "display_name": "Python 3",
   "language": "python",
   "name": "python3"
  },
  "language_info": {
   "codemirror_mode": {
    "name": "ipython",
    "version": 3
   },
   "file_extension": ".py",
   "mimetype": "text/x-python",
   "name": "python",
   "nbconvert_exporter": "python",
   "pygments_lexer": "ipython3",
   "version": "3.7.3"
  }
 },
 "nbformat": 4,
 "nbformat_minor": 2
}
