{
 "cells": [
  {
   "cell_type": "code",
   "execution_count": null,
   "metadata": {},
<<<<<<< HEAD
   "outputs": [
    {
     "name": "stdout",
     "output_type": "stream",
     "text": [
      "You wake up and look around- you see a tavern\n",
      "Which direction would you like to travel? west\n",
      "You see a huge castle towering in front of you\n",
      "Which direction would you like to travel? east\n",
      "You arrive at the tavern\n",
      "Which direction would you like to travel? east\n"
     ]
    }
   ],
=======
   "outputs": [],
>>>>>>> c163f5cd958cdf7eafc895800d4b421b3e3709d0
   "source": [
    "#this is a base working game. However in the actual game, most of this code \n",
    "#should be in a function that handles movement input. When the user types something in, \n",
    "#the program will call a different function based on the type of command\n",
    "\n",
    "def game():\n",
    "    x = 0.0\n",
    "    y = 0.0\n",
    "    locations = {\n",
    "        (0.0,0.0) : {\"name\":'tavern', 'message': \"You arrive at the tavern\", 'items': [], 'npcs' : []}, \n",
    "        (0.0,1.0) : {\"name\":'mountains', 'message': 'You see tall mountains stretching out in front of you', 'items': [], 'npcs' : []}, \n",
    "        (0.0,-1.0) : {'name':\"lake\", 'message':'You see a great blue lake in front of you', 'items': [], 'npcs' : []}, \n",
    "        (-1.0,0.0) : {'name':\"castle\", 'message':'You see a huge castle towering in front of you', 'items': [], 'npcs' : []}, \n",
    "        (1.0,1.0) : {'name':\"waterfall\", 'message':'You see a roaring waterfall', 'items': [], 'npcs' : []}, \n",
    "        (-1.0,1.0) : {'name':\"canyon\", 'message':'A great canyon lies ahead of you.', 'items': [], 'npcs' : []}, \n",
    "        (-1.0, -1.0) : {'name':\"old house\", 'message':\"An old house stands in front of you.\", 'items': [], 'npcs' : []}, \n",
    "        (1.0,-1.0) : {'name':\"grocery store\", 'message':\"You see a grocery store.\", 'items': [], 'npcs' : []},\n",
    "        (1.0,0.0) : {'name':\"plains\", 'message':\"You see rolling plains\", 'items': [], 'npcs' : []}}\n",
    "    \n",
    "    max_coord_pos = 1.0\n",
    "    max_coord_neg = -1.0\n",
    "\n",
    "    print(\"Beginning Text\")\n",
    "    command = input().lower()\n",
    "    while command:\n",
    "        illegal = False\n",
    "        if command == 'go north':\n",
    "            if y + 1 > max_coord_pos:\n",
    "                illegal = True\n",
    "                print(\"North Edge Message (You can't go this way)\") #to be changed to something like 'endless barren land stretches away...'\n",
    "            else:\n",
    "                y += 1.0\n",
    "        elif command == 'go east':\n",
    "            if x + 1 > max_coord_pos:\n",
    "                illegal = True\n",
    "                print(\"East edge message (you can't go this way)\")\n",
    "            else:\n",
    "                x += 1.0\n",
    "        elif command == 'go south':\n",
    "            if y - 1 < max_coord_neg:\n",
    "                illegal = True\n",
    "                print(\"South edge message (you can't go this way)\")\n",
    "            else:\n",
    "                y -= 1.0\n",
    "        elif command == 'go west':\n",
    "            if x - 1 < max_coord_neg:\n",
    "                illegal = True\n",
    "                print(\"West edge message (you can't go this way)\")\n",
    "            else:\n",
    "                x -= 1.0\n",
    "\n",
    "        if not illegal:\n",
    "            print(locations[(x,y)]['message'])\n",
    "\n",
    "        command = input().lower()\n",
    "        \n",
    "        \n",
    "        \n",
    "        \n",
    "game()   "
   ]
  },
  {
   "cell_type": "code",
   "execution_count": null,
   "metadata": {},
   "outputs": [],
   "source": []
  }
 ],
 "metadata": {
  "kernelspec": {
   "display_name": "Python 3",
   "language": "python",
   "name": "python3"
  },
  "language_info": {
   "codemirror_mode": {
    "name": "ipython",
    "version": 3
   },
   "file_extension": ".py",
   "mimetype": "text/x-python",
   "name": "python",
   "nbconvert_exporter": "python",
   "pygments_lexer": "ipython3",
   "version": "3.7.6"
  }
 },
 "nbformat": 4,
 "nbformat_minor": 2
}
