{
 "cells": [
  {
   "cell_type": "code",
   "execution_count": null,
   "metadata": {},
   "outputs": [],
   "source": [
    "def move(command, x, y):\n",
    "    thing = command.lstrip('move ').lower()\n",
    "    if thing == 'crate':\n",
    "        if x == 40 and y == 39:\n",
    "            print(\"With some effort you manage to slide the crate a few feet. Underneath you find a trap door. In the trap door you see a single blood red rose.\")\n",
    "        else:\n",
    "            print(\"There is no crate here.\")\n",
    "    else:\n",
    "        print(\"There's no reason to move this.\")"
   ]
  }
 ],
 "metadata": {
  "kernelspec": {
   "display_name": "Python 3",
   "language": "python",
   "name": "python3"
  },
  "language_info": {
   "codemirror_mode": {
    "name": "ipython",
    "version": 3
   },
   "file_extension": ".py",
   "mimetype": "text/x-python",
   "name": "python",
   "nbconvert_exporter": "python",
   "pygments_lexer": "ipython3",
   "version": "3.7.3"
  }
 },
 "nbformat": 4,
 "nbformat_minor": 2
}
