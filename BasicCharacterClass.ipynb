{
 "cells": [
  {
   "cell_type": "code",
   "execution_count": 2,
   "metadata": {},
   "outputs": [],
   "source": [
    "class Character:\n",
    "    def __init__(self, description, name, one_line, conversation, quest):\n",
    "        self.description = description\n",
    "        self.name = name\n",
    "        self.one_line = one_line\n",
    "        self.conversation = conversation\n",
    "        \n",
    "    def interact_outside_quest(self):\n",
    "        print(f\"\\nAs you pass by, {self.name[:-1]} says: {self.one_line}\\n\")\n",
    "              \n",
    "    def meet(self):\n",
    "        print(f\"{self.description}\\n\")\n",
    "        \n",
    "    def start_conversation(self, quests_object):\n",
    "        for char_line, info in self.conversation.items():\n",
    "            #print(char_line)\n",
    "            if self.conversation[char_line][\"from\"] == [\"\"]:\n",
    "                print(f\"{char_line}\\n\")\n",
    "                self.choose_dialogue(self.conversation[char_line][\"to\"], quests_object) #returns initial choices\n",
    "    \n",
    "    def choose_dialogue(self, choices, quests_object):\n",
    "        for num in range(len(choices)):\n",
    "            print(f\"{num+1}. {choices[num]}\")#dialogue choices are printed out\n",
    "        choice = choices[int(input())-1] #player chooses\n",
    "        print(f\"\\nYou: {choice}\\n\")\n",
    "        if \"Quest Obtained\" in choice:\n",
    "            quests_object.add_quest(self.name)\n",
    "            quests_object.current_quest += \"+\"\n",
    "        if choice != \"Leave\": #if you don't end the conversation\n",
    "            self.char_responds(choice, quests_object)#character responds\n",
    "    \n",
    "    def char_responds(self, player_choice, quests_object):\n",
    "        for char_line in self.conversation:\n",
    "            #print(char_line)\n",
    "            if player_choice in self.conversation[char_line][\"from\"]: #if what the player chooses triggers this line\n",
    "                if \"Quest Succeeded\" in self.conversation[char_line][\"to\"]:\n",
    "                    print(f\"\\n{char_line}\\n\\n-----Quest Completed!------\")\n",
    "                    quests_object.remove_quest()\n",
    "                elif \"Quest Failed\" in self.conversation[char_line][\"to\"]:\n",
    "                    print(f\"{char_line} It seems as if the {quests_object.current_quest[:-1]}s won't be welcoming you back.\\n\\n-----Quest Failed-----\")\n",
    "                    quests_object.remove_quest()\n",
    "                elif \"Quest Updated\" in self.conversation[char_line][\"to\"]:\n",
    "                    print(f\"{char_line}\\n\")\n",
    "                    quests_object.current_quest += \"+\"\n",
    "                else:\n",
    "                    print(f\"{char_line}\\n\")\n",
    "                    self.choose_dialogue(self.conversation[char_line][\"to\"], quests_object) #player responds to character\n"
   ]
  },
  {
   "cell_type": "code",
   "execution_count": null,
   "metadata": {},
   "outputs": [],
   "source": []
  }
 ],
 "metadata": {
  "kernelspec": {
   "display_name": "Python 3",
   "language": "python",
   "name": "python3"
  },
  "language_info": {
   "codemirror_mode": {
    "name": "ipython",
    "version": 3
   },
   "file_extension": ".py",
   "mimetype": "text/x-python",
   "name": "python",
   "nbconvert_exporter": "python",
   "pygments_lexer": "ipython3",
   "version": "3.7.3"
  }
 },
 "nbformat": 4,
 "nbformat_minor": 2
}
