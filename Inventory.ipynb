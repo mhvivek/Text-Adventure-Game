{
 "cells": [
  {
   "cell_type": "code",
   "execution_count": 10,
   "metadata": {},
   "outputs": [
    {
     "name": "stdout",
     "output_type": "stream",
     "text": [
      "In your inventory, you have:\n",
      "\n",
      "Book\n",
      "Car\n",
      "In your inventory, you have:\n",
      "\n",
      "Car\n"
     ]
    }
   ],
   "source": [
    "class Inventory:\n",
    "    def __init__(self):\n",
    "        self.items = [] #will be a list of item objects\n",
    "\n",
    "    def show_items(self):\n",
    "        print(\"In your inventory, you have:\\n\")\n",
    "        for item in self.items:\n",
    "            print(item) #for testing purposes only\n",
    "            #print(item.name) #for actual game\n",
    "\n",
    "    def add_item(self, thing):\n",
    "        if thing.weight == 'heavy':\n",
    "            print(\"Despite, your best efforts, you cannot manage to lift it\")\n",
    "        else:\n",
    "            self.items.append(thing)\n",
    "\n",
    "    def remove_item(self, thing):\n",
    "        self.items.remove(thing)\n"
   ]
  },
  {
   "cell_type": "code",
   "execution_count": null,
   "metadata": {},
   "outputs": [],
   "source": []
  }
 ],
 "metadata": {
  "kernelspec": {
   "display_name": "Python 3",
   "language": "python",
   "name": "python3"
  },
  "language_info": {
   "codemirror_mode": {
    "name": "ipython",
    "version": 3
   },
   "file_extension": ".py",
   "mimetype": "text/x-python",
   "name": "python",
   "nbconvert_exporter": "python",
   "pygments_lexer": "ipython3",
   "version": "3.7.3"
  }
 },
 "nbformat": 4,
 "nbformat_minor": 2
}
