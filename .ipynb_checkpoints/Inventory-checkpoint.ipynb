{
 "cells": [
  {
   "cell_type": "code",
   "execution_count": null,
   "metadata": {},
   "outputs": [],
   "source": [
    "Class Inventory:\n",
    "    def __init__():\n",
    "        items = []\n",
    "    def show_items():\n",
    "        print(\"In your inventory, you have:/n\")\n",
    "        for item in items:\n",
    "            print(item) #for testing purposes only\n",
    "            #print(item.name) #for actual game\n",
    "    def add_item(thing):\n",
    "        items.append(thing)\n",
    "    def remove_item(thing):\n",
    "        items.remove(thing)\n",
    "        \n",
    "my_inventory = Inventory()\n",
    "my_inventory.add(\"Book\")\n",
    "my_inventory.add(\"Car\")\n",
    "my_inventory.show_items()\n",
    "my_inventory.remove_item(\"Book\")\n",
    "my_inventory.show_items()"
   ]
  }
 ],
 "metadata": {
  "kernelspec": {
   "display_name": "Python 3",
   "language": "python",
   "name": "python3"
  },
  "language_info": {
   "codemirror_mode": {
    "name": "ipython",
    "version": 3
   },
   "file_extension": ".py",
   "mimetype": "text/x-python",
   "name": "python",
   "nbconvert_exporter": "python",
   "pygments_lexer": "ipython3",
   "version": "3.7.3"
  }
 },
 "nbformat": 4,
 "nbformat_minor": 2
}
