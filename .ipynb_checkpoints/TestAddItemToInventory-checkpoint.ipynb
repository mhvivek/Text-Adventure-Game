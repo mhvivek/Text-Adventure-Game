{
 "cells": [
  {
   "cell_type": "code",
   "execution_count": 12,
   "metadata": {},
   "outputs": [
    {
     "name": "stdout",
     "output_type": "stream",
     "text": [
      "this is a special book\n",
      "In your inventory, you have:\n",
      "\n",
      "book\n"
     ]
    }
   ],
   "source": [
    "class Item:\n",
    "    def __init__(self, name, q_description, quest, weight,):\n",
    "        self.name = name\n",
    "        self.q_description = q_description\n",
    "        self.quest = quest\n",
    "        self.weight = weight\n",
    "        \n",
    "    def inspect(self, current_quest):\n",
    "        if current_quest == self.quest: #if this object is relevant to the quest\n",
    "            print(self.q_description)\n",
    "        else:\n",
    "            print(f\"You see a {self.name}.\")\n",
    "            \n",
    "class Inventory:\n",
    "    def __init__(self):\n",
    "        self.items = [] #will be a list of item objects\n",
    "\n",
    "    def show_items(self):\n",
    "        print(\"In your inventory, you have:\\n\")\n",
    "        for item in self.items:\n",
    "            #print(item) #for testing purposes only\n",
    "            print(item.name) #for actual game\n",
    "\n",
    "    def add_item(self, thing):\n",
    "        if thing.weight == 'heavy':\n",
    "            print(\"Despite, your best efforts, you cannot manage to lift it\")\n",
    "        else:\n",
    "            self.items.append(thing)\n",
    "\n",
    "    def remove_item(self, thing):\n",
    "        self.items.remove(thing)\n",
    "\n",
    "\n",
    "my_inventory = Inventory()\n",
    "book = Item(\"book\", \"this is a special book\", \"Elf2\", \"light\")\n",
    "\n",
    "book.inspect(\"Elf2\")\n",
    "my_inventory.add_item(book)\n",
    "my_inventory.show_items()"
   ]
  },
  {
   "cell_type": "code",
   "execution_count": null,
   "metadata": {},
   "outputs": [],
   "source": []
  }
 ],
 "metadata": {
  "kernelspec": {
   "display_name": "Python 3",
   "language": "python",
   "name": "python3"
  },
  "language_info": {
   "codemirror_mode": {
    "name": "ipython",
    "version": 3
   },
   "file_extension": ".py",
   "mimetype": "text/x-python",
   "name": "python",
   "nbconvert_exporter": "python",
   "pygments_lexer": "ipython3",
   "version": "3.7.3"
  }
 },
 "nbformat": 4,
 "nbformat_minor": 2
}
