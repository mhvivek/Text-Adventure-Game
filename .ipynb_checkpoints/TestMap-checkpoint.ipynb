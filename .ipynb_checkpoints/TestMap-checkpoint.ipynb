{
 "cells": [
  {
   "cell_type": "code",
   "execution_count": null,
   "metadata": {},
   "outputs": [
    {
     "name": "stdout",
     "output_type": "stream",
     "text": [
      "You wake up and look around- you see a tavern\n",
      "Which direction would you like to travel? north\n",
      "You see tall mountains stretching out in front of you\n",
      "Which direction would you like to travel? north\n",
      "You cannot travel that way. Please choose another direction.\n",
      "Which direction would you like to travel? west\n",
      "A great canyon lies ahead of you.\n",
      "Which direction would you like to travel? south\n",
      "You see a huge castle towering in front of you\n",
      "Which direction would you like to travel? south\n",
      "An old house stands in front of you.\n",
      "Which direction would you like to travel? east\n",
      "You see a great blue lake in front of you\n",
      "Which direction would you like to travel? east\n",
      "You see a grocery store.\n",
      "Which direction would you like to travel? north\n",
      "Which direction would you like to travel? north\n",
      "You see a roaring waterfall\n",
      "Which direction would you like to travel? north\n",
      "You cannot travel that way. Please choose another direction.\n",
      "Which direction would you like to travel? south\n"
     ]
    }
   ],
   "source": [
    "def game():\n",
    "    coordx = 0.0\n",
    "    coordy = 0.0\n",
    "    locations = {'tavern': [(0.0,0.0), \"You arrive at the tavern\"], 'mountains': [(0.0,1.0), 'You see tall mountains stretching out in front of you'], 'lake': [(0.0,-1.0), 'You see a great blue lake in front of you'], 'castle': [(-1.0,0.0), 'You see a huge castle towering in front of you'], 'waterfall': [(1.0,1.0), 'You see a roaring waterfall'], 'canyon': [(-1.0,1.0), 'A great canyon lies ahead of you.'], 'old house': [(-1.0, -1.0), \"An old house stands in front of you.\"], 'grocery store': [(1.0,-1.0), \"You see a grocery store.\"]}\n",
    "    print(\"You wake up and look around- you see a tavern\")\n",
    "    direction = input(\"Which direction would you like to travel? \")\n",
    "    while direction.lower() != 'stop':\n",
    "        if direction.lower() == 'north':\n",
    "            coordy = coordy + 1.0\n",
    "        elif direction.lower() == 'east':\n",
    "            coordx = coordx + 1.0\n",
    "        elif direction.lower() == 'south':\n",
    "            coordy = coordy - 1.0\n",
    "        else:\n",
    "            coordx = coordx - 1.0\n",
    "        while coordx > 1.0 or coordy > 1.0 or coordx < -1.0 or coordy < -1.0:\n",
    "            print(\"You cannot travel that way. Please choose another direction.\")\n",
    "            if direction.lower() == 'north':\n",
    "                coordy = coordy - 1.0\n",
    "            elif direction.lower() == 'east':\n",
    "                coordx = coordx - 1.0\n",
    "            elif direction.lower() == 'south':\n",
    "                coordy = coordy + 1.0\n",
    "            else:\n",
    "                coordx = coordx + 1.0\n",
    "            direction = input(\"Which direction would you like to travel? \")\n",
    "            if direction.lower() == 'north':\n",
    "                coordy = coordy + 1.0\n",
    "            elif direction.lower() == 'east':\n",
    "                coordx = coordx + 1.0\n",
    "            elif direction.lower() == 'south':\n",
    "                coordy = coordy - 1.0\n",
    "            else:\n",
    "                coordx = coordx - 1.0\n",
    "        for location in locations:\n",
    "            if locations[location][0] == (coordx, coordy):\n",
    "                print(locations[location][1])\n",
    "        direction = input(\"Which direction would you like to travel? \")\n",
    "game()\n",
    "    "
   ]
  },
  {
   "cell_type": "code",
   "execution_count": null,
   "metadata": {},
   "outputs": [],
   "source": []
  }
 ],
 "metadata": {
  "kernelspec": {
   "display_name": "Python 3",
   "language": "python",
   "name": "python3"
  },
  "language_info": {
   "codemirror_mode": {
    "name": "ipython",
    "version": 3
   },
   "file_extension": ".py",
   "mimetype": "text/x-python",
   "name": "python",
   "nbconvert_exporter": "python",
   "pygments_lexer": "ipython3",
   "version": "3.7.6"
  }
 },
 "nbformat": 4,
 "nbformat_minor": 2
}
