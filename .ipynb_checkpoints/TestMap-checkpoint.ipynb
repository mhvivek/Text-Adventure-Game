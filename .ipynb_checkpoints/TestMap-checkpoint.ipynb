{
 "cells": [
  {
   "cell_type": "code",
   "execution_count": null,
   "metadata": {},
<<<<<<< HEAD
   "outputs": [
    {
     "name": "stdout",
     "output_type": "stream",
     "text": [
      "You wake up and look around- you see a tavern\n",
      "Which direction would you like to travel? north\n",
      "You see tall mountains stretching out in front of you\n",
      "Which direction would you like to travel? north\n",
      "You cannot travel that way. Please choose another direction.\n",
      "Which direction would you like to travel? west\n",
      "A great canyon lies ahead of you.\n",
      "Which direction would you like to travel? south\n",
      "You see a huge castle towering in front of you\n",
      "Which direction would you like to travel? south\n",
      "An old house stands in front of you.\n",
      "Which direction would you like to travel? east\n",
      "You see a great blue lake in front of you\n",
      "Which direction would you like to travel? east\n",
      "You see a grocery store.\n",
      "Which direction would you like to travel? north\n",
      "Which direction would you like to travel? north\n",
      "You see a roaring waterfall\n",
      "Which direction would you like to travel? north\n",
      "You cannot travel that way. Please choose another direction.\n",
      "Which direction would you like to travel? south\n"
     ]
    }
   ],
   "source": [
    "def game():\n",
    "    coordx = 0.0\n",
    "    coordy = 0.0\n",
    "    locations = {'tavern': [(0.0,0.0), \"You arrive at the tavern\"], 'mountains': [(0.0,1.0), 'You see tall mountains stretching out in front of you'], 'lake': [(0.0,-1.0), 'You see a great blue lake in front of you'], 'castle': [(-1.0,0.0), 'You see a huge castle towering in front of you'], 'waterfall': [(1.0,1.0), 'You see a roaring waterfall'], 'canyon': [(-1.0,1.0), 'A great canyon lies ahead of you.'], 'old house': [(-1.0, -1.0), \"An old house stands in front of you.\"], 'grocery store': [(1.0,-1.0), \"You see a grocery store.\"]}\n",
    "    print(\"You wake up and look around- you see a tavern\")\n",
    "    direction = input(\"Which direction would you like to travel? \")\n",
    "    while direction.lower() != 'stop':\n",
    "        if direction.lower() == 'north':\n",
    "            coordy = coordy + 1.0\n",
    "        elif direction.lower() == 'east':\n",
    "            coordx = coordx + 1.0\n",
    "        elif direction.lower() == 'south':\n",
    "            coordy = coordy - 1.0\n",
    "        else:\n",
    "            coordx = coordx - 1.0\n",
    "        while coordx > 1.0 or coordy > 1.0 or coordx < -1.0 or coordy < -1.0:\n",
    "            print(\"You cannot travel that way. Please choose another direction.\")\n",
    "            if direction.lower() == 'north':\n",
    "                coordy = coordy - 1.0\n",
    "            elif direction.lower() == 'east':\n",
    "                coordx = coordx - 1.0\n",
    "            elif direction.lower() == 'south':\n",
    "                coordy = coordy + 1.0\n",
    "            else:\n",
    "                coordx = coordx + 1.0\n",
    "            direction = input(\"Which direction would you like to travel? \")\n",
    "            if direction.lower() == 'north':\n",
    "                coordy = coordy + 1.0\n",
    "            elif direction.lower() == 'east':\n",
    "                coordx = coordx + 1.0\n",
    "            elif direction.lower() == 'south':\n",
    "                coordy = coordy - 1.0\n",
    "            else:\n",
    "                coordx = coordx - 1.0\n",
    "        for location in locations:\n",
    "            if locations[location][0] == (coordx, coordy):\n",
    "                print(locations[location][1])\n",
    "        direction = input(\"Which direction would you like to travel? \")\n",
    "game()\n",
    "    "
=======
   "outputs": [],
   "source": [
    "#this is a base working game. However in the actual game, most of this code should be in a function that handles movement input. When the user types something in, the program will call a different function based on the type of command\n",
    "\n",
    "def game():\n",
    "    x = 0.0\n",
    "    y = 0.0\n",
    "    locations = {\n",
    "        (0.0,0.0) : {\"name\":'tavern', 'message': \"You arrive at the tavern\", 'items': [], 'npcs' : []}, \n",
    "        (0.0,1.0) : {\"name\":'mountains', 'message': 'You see tall mountains stretching out in front of you', 'items': [], 'npcs' : []}, \n",
    "        (0.0,-1.0) : {'name':\"lake\", 'message':'You see a great blue lake in front of you', 'items': [], 'npcs' : []}, \n",
    "        (-1.0,0.0) : {'name':\"castle\", 'message':'You see a huge castle towering in front of you', 'items': [], 'npcs' : []}, \n",
    "        (1.0,1.0) : {'name':\"waterfall\", 'message':'You see a roaring waterfall', 'items': [], 'npcs' : []}, \n",
    "        (-1.0,1.0) : {'name':\"canyon\", 'message':'A great canyon lies ahead of you.', 'items': [], 'npcs' : []}, \n",
    "        (-1.0, -1.0) : {'name':\"old house\", 'message':\"An old house stands in front of you.\", 'items': [], 'npcs' : []}, \n",
    "        (1.0,-1.0) : {'name':\"grocery store\", 'message':\"You see a grocery store.\", 'items': [], 'npcs' : []},\n",
    "        (1.0,0.0) : {'name':\"plains\", 'message':\"You see rolling plains\", 'items': [], 'npcs' : []}}\n",
    "    \n",
    "    max_coord_pos = 1.0\n",
    "    max_coord_neg = -1.0\n",
    "\n",
    "    print(\"Beginning Text\")\n",
    "    command = input().lower()\n",
    "    while command:\n",
    "        illegal = False\n",
    "        if command == 'go north':\n",
    "            if y + 1 > max_coord_pos:\n",
    "                illegal = True\n",
    "                print(\"North Edge Message (You can't go this way)\") #to be changed to something like 'endless barren land stretches away...'\n",
    "            else:\n",
    "                y += 1.0\n",
    "        elif command == 'go east':\n",
    "            if x + 1 > max_coord_pos:\n",
    "                illegal = True\n",
    "                print(\"East edge message (you can't go this way)\")\n",
    "            else:\n",
    "                x += 1.0\n",
    "        elif command == 'go south':\n",
    "            if y - 1 < max_coord_neg:\n",
    "                illegal = True\n",
    "                print(\"South edge message (you can't go this way)\")\n",
    "            else:\n",
    "                y -= 1.0\n",
    "        elif command == 'go west':\n",
    "            if x - 1 < max_coord_neg:\n",
    "                illegal = True\n",
    "                print(\"West edge message (you can't go this way)\")\n",
    "            else:\n",
    "                x -= 1.0\n",
    "\n",
    "        if not illegal:\n",
    "            print(locations[(x,y)]['message'])\n",
    "\n",
    "        command = input().lower()\n",
    "        \n",
    "        \n",
    "        \n",
    "        \n",
    "game()   "
>>>>>>> c163f5cd958cdf7eafc895800d4b421b3e3709d0
   ]
  },
  {
   "cell_type": "code",
   "execution_count": null,
   "metadata": {},
   "outputs": [],
   "source": []
  }
 ],
 "metadata": {
  "kernelspec": {
   "display_name": "Python 3",
   "language": "python",
   "name": "python3"
  },
  "language_info": {
   "codemirror_mode": {
    "name": "ipython",
    "version": 3
   },
   "file_extension": ".py",
   "mimetype": "text/x-python",
   "name": "python",
   "nbconvert_exporter": "python",
   "pygments_lexer": "ipython3",
<<<<<<< HEAD
   "version": "3.7.6"
=======
   "version": "3.7.3"
>>>>>>> c163f5cd958cdf7eafc895800d4b421b3e3709d0
  }
 },
 "nbformat": 4,
 "nbformat_minor": 2
}
