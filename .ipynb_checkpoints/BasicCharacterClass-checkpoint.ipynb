{
 "cells": [
  {
   "cell_type": "code",
   "execution_count": null,
   "metadata": {},
   "outputs": [],
   "source": [
    "class Character:\n",
    "    def __init__(self, description, name, one_line, conversation):\n",
    "        self.description = description\n",
    "        self.name = name\n",
    "        self.one_line = one_line\n",
    "        self.conversation = conversation\n",
    "        \n",
    "    def interact_outside_quest(self):\n",
    "        print(f\"As you pass by, {self.name} says: {self.one_line}\\n\")\n",
    "              \n",
    "    def meet(self):\n",
    "        print(f\"{description}\\n\")\n",
    "        \n",
    "    def start_conversation(self):\n",
    "        for char_line, info in self.conversation.items():\n",
    "            #print(char_line)\n",
    "            if self.conversation[char_line][\"from\"] == [\"\"]:\n",
    "                print(f\"{self.name}: {char_line}\\n\")\n",
    "                self.choose_dialogue(self.conversation[char_line][\"to\"]) #returns initial choices\n",
    "    \n",
    "    def choose_dialogue(self, choices):\n",
    "        for num in range(len(choices)):\n",
    "            print(f\"{num+1}. {choices[num]}\")#dialogue choices are printed out\n",
    "        choice = choices[int(input())-1] #player chooses\n",
    "        print(f\"\\nYou: {choice}\\n\")\n",
    "        if choice != \"Leave\": #if you don't end the conversation\n",
    "            self.char_responds(choice)#character responds\n",
    "    \n",
    "    def char_responds(self, player_choice):\n",
    "        for char_line in self.conversation:\n",
    "            #print(char_line)\n",
    "            if player_choice in self.conversation[char_line][\"from\"]: #if what the player chooses triggers this line\n",
    "                print(f\"{self.name}: {char_line}\\n\")\n",
    "                self.choose_dialogue(self.conversation[char_line][\"to\"]) #player responds to character\n",
    "        \n",
    "#this conversation dictionary is giant\n",
    "#here is the basic structure\n",
    "\n",
    "#{\"line which a character can say\" : {\"from\": [lines which the player can say to trigger it], \"to\":[dialogue choices a player will have after the character says this]}}\n",
    "\n",
    "#key = string\n",
    "#value = dictionary of string to list of string pairings\n",
    "\n",
    "description = \"Description\"\n",
    "conversation = {\"Hello. Who are you and what is your purpose?\":{\"from\": [\"\"], \"to\": [\"I am [player name] and I am looking for the tree of healing.\"]},\n",
    "               \"As are we. We have some information on it, but first, you must prove to us that you are worthy.\":{\"from\":[\"I am [player name] and I am looking for the tree of healing.\"], \"to\":[\"I’m happy to help. What must I do?\",\"I don’t need your approval. I need the information. But I will do it if I have to, what must I do?\", \"If you have some information about the tree of healing, why don’t you get it yourself?\"]},\n",
    "               \"Because it is being guarded by a ferocious beast\":{\"from\":[\"If you have some information about the tree of healing, why don’t you get it yourself?\"],\"to\":[\"I’m happy to help. What must I do?\",\"I don’t need your approval. I need the information. But I will do it if I have to, what must I do?\"]},\n",
    "               \"First you must help us. Someone has been stealing from our stockpile of food and supplies. Find them.\":{\"from\":[\"I’m happy to help. What must I do?\",\"I don’t need your approval. I need the information. But I will do it if I have to, what must I do?\"],\"to\":[\"Leave\"]}}\n",
    "\n",
    "# This is the first conversation in human quest 1\n",
    "\n",
    "# commander = Character(description, \"Commander Cedric\", \"Good day to you, my wayfairing friend.\", conversation)\n",
    "# commander.meet()\n",
    "# commander.interact_outside_quest()\n",
    "# commander.start_conversation()"
   ]
  },
  {
   "cell_type": "code",
   "execution_count": null,
   "metadata": {},
   "outputs": [],
   "source": []
  }
 ],
 "metadata": {
  "kernelspec": {
   "display_name": "Python 3",
   "language": "python",
   "name": "python3"
  },
  "language_info": {
   "codemirror_mode": {
    "name": "ipython",
    "version": 3
   },
   "file_extension": ".py",
   "mimetype": "text/x-python",
   "name": "python",
   "nbconvert_exporter": "python",
   "pygments_lexer": "ipython3",
   "version": "3.7.3"
  }
 },
 "nbformat": 4,
 "nbformat_minor": 2
}
